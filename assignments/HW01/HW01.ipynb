{
 "cells": [
  {
   "cell_type": "code",
   "execution_count": 1,
   "id": "ef82e897",
   "metadata": {
    "ExecuteTime": {
     "end_time": "2022-01-23T23:09:16.560492Z",
     "start_time": "2022-01-23T23:09:15.960922Z"
    }
   },
   "outputs": [],
   "source": [
    "import numpy as np\n",
    "from numpy.typing import ArrayLike"
   ]
  },
  {
   "cell_type": "code",
   "execution_count": 2,
   "id": "0c4cb336",
   "metadata": {
    "ExecuteTime": {
     "end_time": "2022-01-23T23:09:16.565090Z",
     "start_time": "2022-01-23T23:09:16.561642Z"
    }
   },
   "outputs": [],
   "source": [
    "def dot(A:ArrayLike, B:ArrayLike)->ArrayLike:\n",
    "    '''\n",
    "    Parameters\n",
    "    ----------\n",
    "    A: numpy.typing.ArrayLike\n",
    "        Numpy Array for multiplication\n",
    "    \n",
    "    B: numpy.typing.ArrayLike\n",
    "        Numpy Array for multiplication\n",
    "    \n",
    "    Returns\n",
    "    ----------\n",
    "    res: numpy.typing.ArrayLike\n",
    "        Numpy Array representing the dot product of A and B \n",
    "    '''\n",
    "    \n",
    "    # extracting the rows and columns from the matrices\n",
    "    r1, c1 = A.shape\n",
    "    r2, c2 = B.shape\n",
    "    \n",
    "    # validating the operation\n",
    "    assert c1 == r2, \\\n",
    "    f\"Invalid operation: Num cols of A and Num rows of B are not equal for {A.shape}, {B.shape}\"\n",
    "\n",
    "    # creating an array of zeros\n",
    "    res = np.zeros((r1,c2), dtype=A.dtype)\n",
    "    \n",
    "    # populating res \n",
    "    for i in range(len(A)):\n",
    "        for j in range(len(B[0])):\n",
    "            for k in range(len(B)):\n",
    "                res[i][j] += int(A[i][k]) * int(B[k][j])\n",
    "    return res"
   ]
  },
  {
   "cell_type": "code",
   "execution_count": 3,
   "id": "cd3c4d0b",
   "metadata": {
    "ExecuteTime": {
     "end_time": "2022-01-23T23:09:16.568889Z",
     "start_time": "2022-01-23T23:09:16.566344Z"
    }
   },
   "outputs": [],
   "source": [
    "# a fun little list comprehension solution\n",
    "\n",
    "def dot_comprehension(A:ArrayLike, B:ArrayLike)->ArrayLike:\n",
    "    '''\n",
    "    Parameters\n",
    "    ----------\n",
    "    A: numpy.typing.ArrayLike\n",
    "        Numpy Array for multiplication\n",
    "    \n",
    "    B: numpy.typing.ArrayLike\n",
    "        Numpy Array for multiplication\n",
    "    \n",
    "    Returns\n",
    "    ----------\n",
    "    res: numpy.typing.ArrayLike\n",
    "        Numpy Array representing the dot product of A and B \n",
    "    '''\n",
    "    \n",
    "    # extracting the rows and columns from the matrices\n",
    "    r1, c1 = A.shape\n",
    "    r2, c2 = B.shape\n",
    "    \n",
    "    assert c1 == r2, \\\n",
    "    f\"Invalid operation: Num cols of A and Num rows of B are not equal for {A.shape}, {B.shape}\"\n",
    "\n",
    "    res = np.array([[sum(a*b for a,b in zip(A_row,B_col)) for B_col in zip(*B)] for A_row in A])\n",
    "    return res"
   ]
  },
  {
   "cell_type": "code",
   "execution_count": 4,
   "id": "9bf95e51",
   "metadata": {
    "ExecuteTime": {
     "end_time": "2022-01-23T23:09:16.572189Z",
     "start_time": "2022-01-23T23:09:16.569713Z"
    }
   },
   "outputs": [],
   "source": [
    "A = np.array([[-4,-3,-2], [6,0,-1], [2,1,3]])\n",
    "B = np.array([[5,4], [6,7],[-4,-3]])\n",
    "\n",
    "X = np.array([[1,0],[0,1]])\n",
    "Y = np.array([[1,2,3,4],[5,6,7,8]])"
   ]
  },
  {
   "cell_type": "code",
   "execution_count": 5,
   "id": "8687b931",
   "metadata": {
    "ExecuteTime": {
     "end_time": "2022-01-23T23:09:16.575778Z",
     "start_time": "2022-01-23T23:09:16.573046Z"
    }
   },
   "outputs": [
    {
     "name": "stdout",
     "output_type": "stream",
     "text": [
      "Dot:\n",
      "[[-30 -31]\n",
      " [ 34  27]\n",
      " [  4   6]]\n",
      "\n",
      "Numpy Dot:\n",
      "[[-30 -31]\n",
      " [ 34  27]\n",
      " [  4   6]]\n"
     ]
    }
   ],
   "source": [
    "print(f\"Dot:\\n{dot(A,B)}\\n\\nNumpy Dot:\\n{np.dot(A,B)}\")"
   ]
  },
  {
   "cell_type": "code",
   "execution_count": 6,
   "id": "d44dcdbf",
   "metadata": {
    "ExecuteTime": {
     "end_time": "2022-01-23T23:09:16.578294Z",
     "start_time": "2022-01-23T23:09:16.576513Z"
    },
    "scrolled": false
   },
   "outputs": [
    {
     "name": "stdout",
     "output_type": "stream",
     "text": [
      "Dot:\n",
      "[[1 2 3 4]\n",
      " [5 6 7 8]]\n",
      "\n",
      "Numpy Dot:\n",
      "[[1 2 3 4]\n",
      " [5 6 7 8]]\n"
     ]
    }
   ],
   "source": [
    "print(f\"Dot:\\n{dot(X,Y)}\\n\\nNumpy Dot:\\n{np.dot(X,Y)}\")"
   ]
  },
  {
   "cell_type": "code",
   "execution_count": null,
   "id": "800f52ca",
   "metadata": {},
   "outputs": [],
   "source": []
  }
 ],
 "metadata": {
  "kernelspec": {
   "display_name": "Python 3 (ipykernel)",
   "language": "python",
   "name": "python3"
  },
  "language_info": {
   "codemirror_mode": {
    "name": "ipython",
    "version": 3
   },
   "file_extension": ".py",
   "mimetype": "text/x-python",
   "name": "python",
   "nbconvert_exporter": "python",
   "pygments_lexer": "ipython3",
   "version": "3.9.7"
  },
  "latex_envs": {
   "LaTeX_envs_menu_present": true,
   "autoclose": false,
   "autocomplete": true,
   "bibliofile": "biblio.bib",
   "cite_by": "apalike",
   "current_citInitial": 1,
   "eqLabelWithNumbers": true,
   "eqNumInitial": 1,
   "hotkeys": {
    "equation": "Ctrl-E",
    "itemize": "Ctrl-I"
   },
   "labels_anchors": false,
   "latex_user_defs": false,
   "report_style_numbering": false,
   "user_envs_cfg": false
  }
 },
 "nbformat": 4,
 "nbformat_minor": 5
}
