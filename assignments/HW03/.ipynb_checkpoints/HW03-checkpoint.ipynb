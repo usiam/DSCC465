{
 "cells": [
  {
   "cell_type": "markdown",
   "id": "bcca640f",
   "metadata": {},
   "source": [
    "<h1 align='center'>DSCC 465</h1>\n",
    "<h2 align='center'>Assignment 3</h2>\n",
    "<h4 align='right'>Uzair Tahamid Siam</h4>\n",
    "\n",
    "---"
   ]
  },
  {
   "cell_type": "markdown",
   "id": "7c319fce",
   "metadata": {},
   "source": [
    "<h1 align='center'>Q1</h1>"
   ]
  },
  {
   "cell_type": "markdown",
   "id": "a3957a8e",
   "metadata": {},
   "source": [
    "# a)\n",
    "To summarize,\n",
    "\n",
    "the paper \"*Ethnicity, Insurgency, and Civil War*\" by J Fearon and D Laitin explore factors that lead to civil wars.\n",
    "They try to find a link between civil conflicts and ethnicity. This paper argues that rather than recent changes in the post-Cold War world system, it is the steady growth in protracted crisis from the 1950s and 1960s onwards, that results in the current prevalence of civil wards. Additionally, issues such as poverty, political instability and weak states also contribute to the outbreak of civil wars as they favour rebel recruitment. According to this Stanford University paper, ethnicity, political grievances and the end of the Cold War have historically been cited as factors leading to civil wars. However, civil conflict can be viewed in terms of insurgency that is characterised by small, lightly armed groups engaged in guerilla warfare from rural bases. The existence of poverty, weak states, political instability and large populations leads to conditions that favour insurgency and recruitment to rebel groups.\n",
    "Fragile states are unable or unwilling to control internal conflicts due to weak local policing and corrupt counterinsurgency practices. Ethnic and religious diversity does not necessarily lead to civil conflict in a country, despite the fact that rebel groups are often mobilised along ethnic lines during warfare. They also argue that there is little evidence that the absence of democracy and respect for civil liberties and minority groups leads to the outbreak of civil war.\n"
   ]
  },
  {
   "cell_type": "markdown",
   "id": "285dee6d",
   "metadata": {},
   "source": [
    "# b)\n",
    "\n",
    "In the section on **Descriptive Statistics** the authors mention they identified 127 conflicts between years 1945 to 1999 with each observation being a civil war conflict and 13 of those were anticolonial wars."
   ]
  },
  {
   "cell_type": "code",
   "execution_count": null,
   "id": "8c0702e6",
   "metadata": {},
   "outputs": [],
   "source": []
  },
  {
   "cell_type": "markdown",
   "id": "d4d73240",
   "metadata": {},
   "source": [
    "---"
   ]
  },
  {
   "cell_type": "code",
   "execution_count": 1,
   "id": "9029ea4d",
   "metadata": {
    "ExecuteTime": {
     "end_time": "2022-02-12T03:00:41.361676Z",
     "start_time": "2022-02-12T03:00:39.080920Z"
    }
   },
   "outputs": [],
   "source": [
    "import numpy as np\n",
    "np.set_printoptions(precision=2)\n",
    "import pandas as pd\n",
    "import sklearn\n",
    "import matplotlib.pyplot as plt\n",
    "from numpy.typing import ArrayLike\n",
    "from random import randrange\n",
    "import random\n",
    "random.seed(265)\n",
    "import matplotlib\n",
    "font = {'family' : 'Tahoma',\n",
    "        'weight' : 'regular',\n",
    "        'size'   : '20'}\n",
    "matplotlib.rc('font', **font)\n",
    "matplotlib.rc('axes',edgecolor='lightgrey')\n",
    "matplotlib.rcParams['grid.color'] = 'lightgrey'\n",
    "plt.style.use('seaborn-pastel')"
   ]
  },
  {
   "cell_type": "markdown",
   "id": "b7dad8ab",
   "metadata": {},
   "source": [
    "<h1 align='center'>Q2</h1>"
   ]
  },
  {
   "cell_type": "markdown",
   "id": "4ffe39b6",
   "metadata": {},
   "source": [
    "### Matrices :\n",
    "\n",
    "\n",
    "X$_{n\\times m}$= $\\begin{bmatrix}\n",
    ".&.&.&. \\\\\n",
    ".&.&.&. \\\\\n",
    ".&.&.&. \\\\\n",
    ".&.&.&. \\\\\n",
    "\\end{bmatrix}$\n",
    "\n",
    "y$_{1\\times m}$= $\\begin{bmatrix}\n",
    ".&.&.&. \\\\\n",
    "\\end{bmatrix}$\n",
    "\n",
    "$\\theta_{n\\times1}$=  $\\begin{bmatrix}\n",
    "\\theta_1 \\\\\n",
    ". \\\\\n",
    ". \\\\\n",
    "\\theta_n \\\\\n",
    "\\end{bmatrix}$\n",
    "\n",
    "### Equations:\n",
    "\n",
    "$\\sigma = \\frac{1}{1+e^{-z}}$\n",
    "\n",
    "$h(\\theta) = \\sigma(\\theta^{T}X + b$)"
   ]
  },
  {
   "cell_type": "code",
   "execution_count": 2,
   "id": "0252e787",
   "metadata": {
    "ExecuteTime": {
     "end_time": "2022-02-12T03:00:41.373416Z",
     "start_time": "2022-02-12T03:00:41.363332Z"
    }
   },
   "outputs": [],
   "source": [
    "def sigmoid_f(z: ArrayLike) -> ArrayLike:\n",
    "    '''\n",
    "    Parameters\n",
    "    -----------\n",
    "    z: ArrayLike\n",
    "        The argument of the sigmoid function\n",
    "    \n",
    "    Returns\n",
    "    -----------\n",
    "    sigmoid: ArrayLike\n",
    "        The output of the sigmoid function\n",
    "    '''\n",
    "    sigmoid = 1/(1+np.exp(-z))\n",
    "    return sigmoid\n",
    "\n",
    "def classifier_f(w: ArrayLike, b:int, X: ArrayLike) -> ArrayLike:\n",
    "    '''\n",
    "    \n",
    "    \n",
    "    '''\n",
    "    z = np.dot(w.T, X) + b\n",
    "    return sigmoid_f(z)\n",
    "\n",
    "def binary_loss_f(y: ArrayLike, a: ArrayLike) -> int:\n",
    "    '''\n",
    "    '''\n",
    "    m = y.shape[1]\n",
    "    cost = -1/m * np.sum(y * np.log(a) + (1-y) * np.log(1-a))\n",
    "    return cost\n",
    "\n",
    "def gradient_f(w: ArrayLike, b: int, X: ArrayLike, y: ArrayLike, alpha: int):\n",
    "    '''\n",
    "    '''\n",
    "    m = X.shape[1]\n",
    "    n = X.shape[0]\n",
    "    A = classifier_f(w=w, b=b, X=X)\n",
    "    cost = binary_loss_f(y, A)\n",
    "    dw = (1/m) * np.dot(A-y, X.T)\n",
    "    db = (1/m) * np.sum(A-y)\n",
    "    w = w - alpha * dw.T\n",
    "    b = b - alpha * db\n",
    "    \n",
    "    return w, b, cost\n",
    "\n",
    "def optimizer_f(X: ArrayLike, y: ArrayLike, alpha: int, iterations: int, print_cost=True):\n",
    "    '''\n",
    "    '''\n",
    "    X = X.T # m x n to n x m \n",
    "    y = y.reshape((1, X.shape[1]))\n",
    "    w = np.zeros((X.shape[0],1))\n",
    "    b = 0\n",
    "    cost_l = []\n",
    "    for i in range(iterations):\n",
    "        w, b, cost = gradient_f(w, b, X, y, alpha)\n",
    "        cost_l.append(cost)\n",
    "        if print_cost:\n",
    "            if i % (iterations/50) == 0:\n",
    "                print(f\"Cost after {i}-iterations: {cost}\")\n",
    "            \n",
    "    return w,b, cost_l\n",
    "\n"
   ]
  },
  {
   "cell_type": "code",
   "execution_count": 3,
   "id": "e9198904",
   "metadata": {
    "ExecuteTime": {
     "end_time": "2022-02-12T03:00:41.419746Z",
     "start_time": "2022-02-12T03:00:41.374627Z"
    }
   },
   "outputs": [],
   "source": [
    "# importing data\n",
    "\n",
    "from sklearn.datasets import load_breast_cancer\n",
    "dataset = load_breast_cancer(as_frame=True).frame"
   ]
  },
  {
   "cell_type": "code",
   "execution_count": 4,
   "id": "46d1ec68",
   "metadata": {
    "ExecuteTime": {
     "end_time": "2022-02-12T03:00:41.424885Z",
     "start_time": "2022-02-12T03:00:41.421953Z"
    }
   },
   "outputs": [],
   "source": [
    "x = dataset.iloc[:, :-1].values\n",
    "y = dataset.iloc[:, -1].values"
   ]
  },
  {
   "cell_type": "code",
   "execution_count": 5,
   "id": "832e40b5",
   "metadata": {
    "ExecuteTime": {
     "end_time": "2022-02-12T03:00:41.430192Z",
     "start_time": "2022-02-12T03:00:41.426096Z"
    }
   },
   "outputs": [],
   "source": [
    "# Scaling x only since y already in [0,1]\n",
    "\n",
    "from sklearn.preprocessing import MinMaxScaler\n",
    "mms_x = MinMaxScaler()\n",
    "x = mms_x.fit_transform(x)"
   ]
  },
  {
   "cell_type": "code",
   "execution_count": 6,
   "id": "a92aab72",
   "metadata": {
    "ExecuteTime": {
     "end_time": "2022-02-12T03:00:42.253511Z",
     "start_time": "2022-02-12T03:00:41.431291Z"
    },
    "scrolled": true
   },
   "outputs": [
    {
     "name": "stdout",
     "output_type": "stream",
     "text": [
      "Cost after 0-iterations: 0.6931471805599453\n",
      "Cost after 200-iterations: 0.2190089573081807\n",
      "Cost after 400-iterations: 0.16977855890618357\n",
      "Cost after 600-iterations: 0.1471224255623226\n",
      "Cost after 800-iterations: 0.13320273075450312\n",
      "Cost after 1000-iterations: 0.1235070099271086\n",
      "Cost after 1200-iterations: 0.11625789315691809\n",
      "Cost after 1400-iterations: 0.11058179508064696\n",
      "Cost after 1600-iterations: 0.1059883755798705\n",
      "Cost after 1800-iterations: 0.10217707737224219\n",
      "Cost after 2000-iterations: 0.09895175654648952\n",
      "Cost after 2200-iterations: 0.09617823688344139\n",
      "Cost after 2400-iterations: 0.09376128095991756\n",
      "Cost after 2600-iterations: 0.09163123853205997\n",
      "Cost after 2800-iterations: 0.08973589147353446\n",
      "Cost after 3000-iterations: 0.08803525864865586\n",
      "Cost after 3200-iterations: 0.08649816919210591\n",
      "Cost after 3400-iterations: 0.08509993487791848\n",
      "Cost after 3600-iterations: 0.08382072870895182\n",
      "Cost after 3800-iterations: 0.08264443041624471\n",
      "Cost after 4000-iterations: 0.08155778839419911\n",
      "Cost after 4200-iterations: 0.08054980081380513\n",
      "Cost after 4400-iterations: 0.07961125151318411\n",
      "Cost after 4600-iterations: 0.07873435709692277\n",
      "Cost after 4800-iterations: 0.07791249519799844\n",
      "Cost after 5000-iterations: 0.07713999281994341\n",
      "Cost after 5200-iterations: 0.07641195973249713\n",
      "Cost after 5400-iterations: 0.07572415605572207\n",
      "Cost after 5600-iterations: 0.07507288607282177\n",
      "Cost after 5800-iterations: 0.07445491236935119\n",
      "Cost after 6000-iterations: 0.07386738587292113\n",
      "Cost after 6200-iterations: 0.07330778843999079\n",
      "Cost after 6400-iterations: 0.07277388542428678\n",
      "Cost after 6600-iterations: 0.07226368624642869\n",
      "Cost after 6800-iterations: 0.07177541142301842\n",
      "Cost after 7000-iterations: 0.07130746484543367\n",
      "Cost after 7200-iterations: 0.07085841035198491\n",
      "Cost after 7400-iterations: 0.07042695183211982\n",
      "Cost after 7600-iterations: 0.07001191625260525\n",
      "Cost after 7800-iterations: 0.06961223911375602\n",
      "Cost after 8000-iterations: 0.06922695193670049\n",
      "Cost after 8200-iterations: 0.0688551714562228\n",
      "Cost after 8400-iterations: 0.06849609025231031\n",
      "Cost after 8600-iterations: 0.06814896860046728\n",
      "Cost after 8800-iterations: 0.06781312735866418\n",
      "Cost after 9000-iterations: 0.06748794173941769\n",
      "Cost after 9200-iterations: 0.06717283584041388\n",
      "Cost after 9400-iterations: 0.06686727782747727\n",
      "Cost after 9600-iterations: 0.06657077568043157\n",
      "Cost after 9800-iterations: 0.06628287342622179\n"
     ]
    }
   ],
   "source": [
    "iterations = 10000\n",
    "w, b, costs = optimizer_f(x, y, alpha=0.5, iterations=iterations)"
   ]
  },
  {
   "cell_type": "code",
   "execution_count": 7,
   "id": "e7e3483f",
   "metadata": {
    "ExecuteTime": {
     "end_time": "2022-02-12T03:00:42.431813Z",
     "start_time": "2022-02-12T03:00:42.254798Z"
    }
   },
   "outputs": [
    {
     "data": {
      "image/png": "[encoded data removed]",
      "text/plain": [
       "<Figure size 720x504 with 1 Axes>"
      ]
     },
     "metadata": {
      "needs_background": "light"
     },
     "output_type": "display_data"
    }
   ],
   "source": [
    "plt.figure(figsize=(10,7))\n",
    "plt.plot(np.arange(0, iterations, 1), costs)\n",
    "plt.xlabel('Iterations')\n",
    "plt.ylabel('Cost')\n",
    "plt.show()"
   ]
  },
  {
   "cell_type": "code",
   "execution_count": 8,
   "id": "5f7eac8b",
   "metadata": {
    "ExecuteTime": {
     "end_time": "2022-02-12T03:00:42.438562Z",
     "start_time": "2022-02-12T03:00:42.433133Z"
    },
    "scrolled": true
   },
   "outputs": [],
   "source": [
    "weights = (np.ravel(w))\n",
    "attrNames = dataset.columns[:-1]\n",
    "oddsRatio = np.exp(np.ravel(w))\n",
    "eq = np.stack((weights, attrNames, oddsRatio), axis=1)\n",
    "eq_df = pd.DataFrame(data=eq, index=None, columns=['weights', 'Attribute Name', 'Odds Ratio'])\n",
    "eq_df.sort_values(by='weights', ascending=False, inplace=True, ignore_index=True)"
   ]
  },
  {
   "cell_type": "code",
   "execution_count": 9,
   "id": "33665711",
   "metadata": {
    "ExecuteTime": {
     "end_time": "2022-02-12T03:00:42.450134Z",
     "start_time": "2022-02-12T03:00:42.439932Z"
    }
   },
   "outputs": [
    {
     "data": {
      "text/html": [
       "<div>\n",
       "<style scoped>\n",
       "    .dataframe tbody tr th:only-of-type {\n",
       "        vertical-align: middle;\n",
       "    }\n",
       "\n",
       "    .dataframe tbody tr th {\n",
       "        vertical-align: top;\n",
       "    }\n",
       "\n",
       "    .dataframe thead th {\n",
       "        text-align: right;\n",
       "    }\n",
       "</style>\n",
       "<table border=\"1\" class=\"dataframe\">\n",
       "  <thead>\n",
       "    <tr style=\"text-align: right;\">\n",
       "      <th></th>\n",
       "      <th>weights</th>\n",
       "      <th>Attribute Name</th>\n",
       "      <th>Odds Ratio</th>\n",
       "    </tr>\n",
       "  </thead>\n",
       "  <tbody>\n",
       "    <tr>\n",
       "      <th>0</th>\n",
       "      <td>4.023169</td>\n",
       "      <td>mean fractal dimension</td>\n",
       "      <td>55.877883</td>\n",
       "    </tr>\n",
       "    <tr>\n",
       "      <th>1</th>\n",
       "      <td>3.874137</td>\n",
       "      <td>compactness error</td>\n",
       "      <td>48.141124</td>\n",
       "    </tr>\n",
       "    <tr>\n",
       "      <th>2</th>\n",
       "      <td>2.441101</td>\n",
       "      <td>fractal dimension error</td>\n",
       "      <td>11.485683</td>\n",
       "    </tr>\n",
       "    <tr>\n",
       "      <th>3</th>\n",
       "      <td>1.323793</td>\n",
       "      <td>mean compactness</td>\n",
       "      <td>3.757646</td>\n",
       "    </tr>\n",
       "    <tr>\n",
       "      <th>4</th>\n",
       "      <td>1.298801</td>\n",
       "      <td>symmetry error</td>\n",
       "      <td>3.664901</td>\n",
       "    </tr>\n",
       "    <tr>\n",
       "      <th>5</th>\n",
       "      <td>1.216559</td>\n",
       "      <td>concavity error</td>\n",
       "      <td>3.375554</td>\n",
       "    </tr>\n",
       "    <tr>\n",
       "      <th>6</th>\n",
       "      <td>0.430571</td>\n",
       "      <td>texture error</td>\n",
       "      <td>1.538135</td>\n",
       "    </tr>\n",
       "    <tr>\n",
       "      <th>7</th>\n",
       "      <td>0.087119</td>\n",
       "      <td>mean symmetry</td>\n",
       "      <td>1.091026</td>\n",
       "    </tr>\n",
       "    <tr>\n",
       "      <th>8</th>\n",
       "      <td>0.03104</td>\n",
       "      <td>concave points error</td>\n",
       "      <td>1.031526</td>\n",
       "    </tr>\n",
       "    <tr>\n",
       "      <th>9</th>\n",
       "      <td>-0.199341</td>\n",
       "      <td>mean smoothness</td>\n",
       "      <td>0.819271</td>\n",
       "    </tr>\n",
       "    <tr>\n",
       "      <th>10</th>\n",
       "      <td>-0.348645</td>\n",
       "      <td>worst compactness</td>\n",
       "      <td>0.705643</td>\n",
       "    </tr>\n",
       "    <tr>\n",
       "      <th>11</th>\n",
       "      <td>-0.771565</td>\n",
       "      <td>worst fractal dimension</td>\n",
       "      <td>0.462289</td>\n",
       "    </tr>\n",
       "    <tr>\n",
       "      <th>12</th>\n",
       "      <td>-0.904273</td>\n",
       "      <td>smoothness error</td>\n",
       "      <td>0.404836</td>\n",
       "    </tr>\n",
       "    <tr>\n",
       "      <th>13</th>\n",
       "      <td>-1.311277</td>\n",
       "      <td>mean radius</td>\n",
       "      <td>0.269476</td>\n",
       "    </tr>\n",
       "    <tr>\n",
       "      <th>14</th>\n",
       "      <td>-1.393625</td>\n",
       "      <td>mean perimeter</td>\n",
       "      <td>0.248174</td>\n",
       "    </tr>\n",
       "    <tr>\n",
       "      <th>15</th>\n",
       "      <td>-2.62534</td>\n",
       "      <td>mean area</td>\n",
       "      <td>0.072415</td>\n",
       "    </tr>\n",
       "    <tr>\n",
       "      <th>16</th>\n",
       "      <td>-3.182783</td>\n",
       "      <td>worst concavity</td>\n",
       "      <td>0.04147</td>\n",
       "    </tr>\n",
       "    <tr>\n",
       "      <th>17</th>\n",
       "      <td>-3.343976</td>\n",
       "      <td>mean texture</td>\n",
       "      <td>0.035296</td>\n",
       "    </tr>\n",
       "    <tr>\n",
       "      <th>18</th>\n",
       "      <td>-3.839267</td>\n",
       "      <td>worst smoothness</td>\n",
       "      <td>0.021509</td>\n",
       "    </tr>\n",
       "    <tr>\n",
       "      <th>19</th>\n",
       "      <td>-3.890705</td>\n",
       "      <td>area error</td>\n",
       "      <td>0.020431</td>\n",
       "    </tr>\n",
       "    <tr>\n",
       "      <th>20</th>\n",
       "      <td>-4.149751</td>\n",
       "      <td>worst symmetry</td>\n",
       "      <td>0.015768</td>\n",
       "    </tr>\n",
       "    <tr>\n",
       "      <th>21</th>\n",
       "      <td>-4.412854</td>\n",
       "      <td>worst perimeter</td>\n",
       "      <td>0.012121</td>\n",
       "    </tr>\n",
       "    <tr>\n",
       "      <th>22</th>\n",
       "      <td>-4.553091</td>\n",
       "      <td>perimeter error</td>\n",
       "      <td>0.010535</td>\n",
       "    </tr>\n",
       "    <tr>\n",
       "      <th>23</th>\n",
       "      <td>-4.573361</td>\n",
       "      <td>mean concavity</td>\n",
       "      <td>0.010323</td>\n",
       "    </tr>\n",
       "    <tr>\n",
       "      <th>24</th>\n",
       "      <td>-4.836219</td>\n",
       "      <td>worst area</td>\n",
       "      <td>0.007937</td>\n",
       "    </tr>\n",
       "    <tr>\n",
       "      <th>25</th>\n",
       "      <td>-5.150528</td>\n",
       "      <td>worst concave points</td>\n",
       "      <td>0.005796</td>\n",
       "    </tr>\n",
       "    <tr>\n",
       "      <th>26</th>\n",
       "      <td>-5.190218</td>\n",
       "      <td>worst radius</td>\n",
       "      <td>0.005571</td>\n",
       "    </tr>\n",
       "    <tr>\n",
       "      <th>27</th>\n",
       "      <td>-5.433743</td>\n",
       "      <td>worst texture</td>\n",
       "      <td>0.004367</td>\n",
       "    </tr>\n",
       "    <tr>\n",
       "      <th>28</th>\n",
       "      <td>-6.286055</td>\n",
       "      <td>mean concave points</td>\n",
       "      <td>0.001862</td>\n",
       "    </tr>\n",
       "    <tr>\n",
       "      <th>29</th>\n",
       "      <td>-6.321238</td>\n",
       "      <td>radius error</td>\n",
       "      <td>0.001798</td>\n",
       "    </tr>\n",
       "  </tbody>\n",
       "</table>\n",
       "</div>"
      ],
      "text/plain": [
       "     weights           Attribute Name Odds Ratio\n",
       "0   4.023169   mean fractal dimension  55.877883\n",
       "1   3.874137        compactness error  48.141124\n",
       "2   2.441101  fractal dimension error  11.485683\n",
       "3   1.323793         mean compactness   3.757646\n",
       "4   1.298801           symmetry error   3.664901\n",
       "5   1.216559          concavity error   3.375554\n",
       "6   0.430571            texture error   1.538135\n",
       "7   0.087119            mean symmetry   1.091026\n",
       "8    0.03104     concave points error   1.031526\n",
       "9  -0.199341          mean smoothness   0.819271\n",
       "10 -0.348645        worst compactness   0.705643\n",
       "11 -0.771565  worst fractal dimension   0.462289\n",
       "12 -0.904273         smoothness error   0.404836\n",
       "13 -1.311277              mean radius   0.269476\n",
       "14 -1.393625           mean perimeter   0.248174\n",
       "15  -2.62534                mean area   0.072415\n",
       "16 -3.182783          worst concavity    0.04147\n",
       "17 -3.343976             mean texture   0.035296\n",
       "18 -3.839267         worst smoothness   0.021509\n",
       "19 -3.890705               area error   0.020431\n",
       "20 -4.149751           worst symmetry   0.015768\n",
       "21 -4.412854          worst perimeter   0.012121\n",
       "22 -4.553091          perimeter error   0.010535\n",
       "23 -4.573361           mean concavity   0.010323\n",
       "24 -4.836219               worst area   0.007937\n",
       "25 -5.150528     worst concave points   0.005796\n",
       "26 -5.190218             worst radius   0.005571\n",
       "27 -5.433743            worst texture   0.004367\n",
       "28 -6.286055      mean concave points   0.001862\n",
       "29 -6.321238             radius error   0.001798"
      ]
     },
     "execution_count": 9,
     "metadata": {},
     "output_type": "execute_result"
    }
   ],
   "source": [
    "eq_df"
   ]
  },
  {
   "cell_type": "markdown",
   "id": "20d8944c",
   "metadata": {},
   "source": [
    "https://medium.com/@mubarakb/how-to-interpret-the-weights-in-logistic-regression-89bb03249f27"
   ]
  },
  {
   "cell_type": "markdown",
   "id": "0b0271b5",
   "metadata": {},
   "source": [
    "A change in xjxj by one unit increases the log odds ratio by the value of the corresponding weight. Most people interpret the odds ratio because thinking about the log() of something is known to be hard on the brain. Interpreting the odds ratio already requires some getting used to. For example, if you have odds of 2, it means that the probability for y=1 is twice as high as y=0. If you have a weight (= log odds ratio) of 0.7, then increasing the respective feature by one unit multiplies the odds by exp(0.7) (approximately 2) and the odds change to 4. But usually you do not deal with the odds and interpret the weights only as the odds ratios. "
   ]
  },
  {
   "cell_type": "markdown",
   "id": "71209852",
   "metadata": {},
   "source": [
    "---"
   ]
  },
  {
   "cell_type": "markdown",
   "id": "742506cf",
   "metadata": {},
   "source": [
    "<h1 align='center'>Q3</h1>"
   ]
  },
  {
   "cell_type": "code",
   "execution_count": 10,
   "id": "62362f61",
   "metadata": {
    "ExecuteTime": {
     "end_time": "2022-02-12T03:00:42.469405Z",
     "start_time": "2022-02-12T03:00:42.453748Z"
    }
   },
   "outputs": [],
   "source": [
    "# importing california housing data from sklearn \n",
    "\n",
    "housing_df = sklearn.datasets.fetch_california_housing(as_frame=True).frame\n",
    "# df = sklearn.datasets.fetch_california_housing(as_frame=True).frame"
   ]
  },
  {
   "cell_type": "code",
   "execution_count": 11,
   "id": "866d35c0",
   "metadata": {
    "ExecuteTime": {
     "end_time": "2022-02-12T03:00:42.480303Z",
     "start_time": "2022-02-12T03:00:42.470485Z"
    }
   },
   "outputs": [],
   "source": [
    "mms = MinMaxScaler()\n",
    "mms.fit(housing_df)\n",
    "df = mms.fit_transform(housing_df)"
   ]
  },
  {
   "cell_type": "code",
   "execution_count": 12,
   "id": "9b3012bc",
   "metadata": {
    "ExecuteTime": {
     "end_time": "2022-02-12T03:00:42.484699Z",
     "start_time": "2022-02-12T03:00:42.481796Z"
    }
   },
   "outputs": [],
   "source": [
    "df = pd.DataFrame(df, columns=housing_df.columns)"
   ]
  },
  {
   "cell_type": "code",
   "execution_count": 13,
   "id": "d3e9d2a6",
   "metadata": {
    "ExecuteTime": {
     "end_time": "2022-02-12T03:00:42.488799Z",
     "start_time": "2022-02-12T03:00:42.485909Z"
    }
   },
   "outputs": [],
   "source": [
    "x = df.iloc[:, :-1]\n",
    "y = df.iloc[:, -1]\n",
    "# y = y.reshape(len(y),1)"
   ]
  },
  {
   "cell_type": "code",
   "execution_count": 42,
   "id": "6bf96498",
   "metadata": {
    "ExecuteTime": {
     "end_time": "2022-02-12T03:07:28.887934Z",
     "start_time": "2022-02-12T03:07:28.866454Z"
    }
   },
   "outputs": [],
   "source": [
    "from sklearn.utils import shuffle\n",
    "from sklearn.metrics import mean_squared_error\n",
    "from sklearn.linear_model import LinearRegression\n",
    "\n",
    "\n",
    "def LOOCV(dataset, model, X, y):\n",
    "    '''\n",
    "    '''\n",
    "    return KFCV(dataset, model, X, y, k=len(dataset))\n",
    "#     model_dict = {}\n",
    "#     dataset = shuffle(dataset)\n",
    "#     for i in range(len(dataset)):\n",
    "#         # splitting into train-test\n",
    "#         test = dataset.iloc[[i], :]\n",
    "#         train = pd.concat([dataset.iloc[:i, :], dataset.iloc[i: , :]])\n",
    "        \n",
    "#         # fitting the model\n",
    "#         model = model.fit(train[X], train[y])\n",
    "        \n",
    "#         # finding mse \n",
    "#         err = mean_squared_error(y_true=test[y], y_pred=model.predict(test[X]))\n",
    "        \n",
    "#         model_dict[err] = model\n",
    "\n",
    "#     return model_dict\n",
    "    \n",
    "# get the fold number\n",
    "\n",
    "def KFCV(dataset, model, X, y, k=5):\n",
    "    '''\n",
    "    '''\n",
    "    model_dict = {}\n",
    "    dataset = shuffle(dataset)\n",
    "    folds = len(dataset) // k\n",
    "    foldList = []\n",
    "    \n",
    "    for i in range(k):\n",
    "        # splitting into train-test\n",
    "        test = dataset.iloc[i*folds:(i+1)*folds, :]\n",
    "        train = pd.concat([dataset.iloc[:i*folds, :], dataset.iloc[(i+1)*folds: , :]])\n",
    "        \n",
    "        # fitting the model\n",
    "        model = model.fit(train[X], train[y])\n",
    "        \n",
    "        # finding mse \n",
    "        err = mean_squared_error(y_true=test[y], y_pred=model.predict(test[X]))\n",
    "        \n",
    "        model_dict[err] = model\n",
    "\n",
    "    return model_dict\n",
    "\n",
    "def TTSCV(dataset, model, X, y, split=0.7):\n",
    "    '''\n",
    "    '''\n",
    "    dataset = shuffle(dataset)\n",
    "    train_size = int(split * len(dataset))\n",
    "    \n",
    "    # splitting into train-test\n",
    "    train = dataset.sample(n=train_size, random_state=265)\n",
    "    test = dataset.drop(train.index, axis=0)\n",
    "    \n",
    "    # fitting the model\n",
    "    \n",
    "    model = model.fit(train[X], train[y])\n",
    "\n",
    "    # finding mse \n",
    "    err = mean_squared_error(y_true=test[y], y_pred=model.predict(test[X]))\n",
    "    \n",
    "    return err\n",
    "    \n"
   ]
  },
  {
   "cell_type": "code",
   "execution_count": 43,
   "id": "54c01cf2",
   "metadata": {
    "ExecuteTime": {
     "end_time": "2022-02-12T03:07:29.140707Z",
     "start_time": "2022-02-12T03:07:29.135189Z"
    }
   },
   "outputs": [],
   "source": [
    "model = LinearRegression()"
   ]
  },
  {
   "cell_type": "code",
   "execution_count": 44,
   "id": "99b720e9",
   "metadata": {
    "ExecuteTime": {
     "end_time": "2022-02-12T03:07:29.388987Z",
     "start_time": "2022-02-12T03:07:29.360144Z"
    },
    "scrolled": true
   },
   "outputs": [
    {
     "data": {
      "text/plain": [
       "0.023320649088228288"
      ]
     },
     "execution_count": 44,
     "metadata": {},
     "output_type": "execute_result"
    }
   ],
   "source": [
    "e = TTSCV(df, model, x.columns, y.name)\n",
    "e"
   ]
  },
  {
   "cell_type": "code",
   "execution_count": 45,
   "id": "0d477993",
   "metadata": {
    "ExecuteTime": {
     "end_time": "2022-02-12T03:07:29.541313Z",
     "start_time": "2022-02-12T03:07:29.538475Z"
    }
   },
   "outputs": [],
   "source": [
    "model = LinearRegression()"
   ]
  },
  {
   "cell_type": "code",
   "execution_count": 46,
   "id": "e79189fc",
   "metadata": {
    "ExecuteTime": {
     "end_time": "2022-02-12T03:07:29.742929Z",
     "start_time": "2022-02-12T03:07:29.705336Z"
    }
   },
   "outputs": [
    {
     "data": {
      "text/plain": [
       "0.022436639401594887"
      ]
     },
     "execution_count": 46,
     "metadata": {},
     "output_type": "execute_result"
    }
   ],
   "source": [
    "m = KFCV(df, model, x.columns, y.name)\n",
    "\n",
    "np.mean(list((m.keys())))"
   ]
  },
  {
   "cell_type": "code",
   "execution_count": 47,
   "id": "bd43f0e6",
   "metadata": {
    "ExecuteTime": {
     "end_time": "2022-02-12T03:07:29.873283Z",
     "start_time": "2022-02-12T03:07:29.870452Z"
    }
   },
   "outputs": [],
   "source": [
    "model = LinearRegression()"
   ]
  },
  {
   "cell_type": "code",
   "execution_count": 48,
   "id": "cc393e45",
   "metadata": {
    "ExecuteTime": {
     "end_time": "2022-02-12T03:09:58.874704Z",
     "start_time": "2022-02-12T03:07:30.346026Z"
    }
   },
   "outputs": [
    {
     "data": {
      "text/plain": [
       "0.02229000582057868"
      ]
     },
     "execution_count": 48,
     "metadata": {},
     "output_type": "execute_result"
    }
   ],
   "source": [
    "mLLO = LOOCV(df, model, x.columns, y.name)\n",
    "np.mean(list((mLLO.keys())))"
   ]
  },
  {
   "cell_type": "markdown",
   "id": "46aa3120",
   "metadata": {},
   "source": [
    "## TESTING WITH SKLEARN BUILT INS"
   ]
  },
  {
   "cell_type": "markdown",
   "id": "b5bf5b60",
   "metadata": {},
   "source": [
    "Train-Test"
   ]
  },
  {
   "cell_type": "code",
   "execution_count": 21,
   "id": "ec229a5d",
   "metadata": {
    "ExecuteTime": {
     "end_time": "2022-02-12T03:03:10.373155Z",
     "start_time": "2022-02-12T03:03:10.353681Z"
    }
   },
   "outputs": [],
   "source": [
    "# importing california housing data from sklearn \n",
    "\n",
    "housing_df = sklearn.datasets.fetch_california_housing(as_frame=True).frame\n",
    "# df = sklearn.datasets.fetch_california_housing(as_frame=True).frame"
   ]
  },
  {
   "cell_type": "code",
   "execution_count": 22,
   "id": "52b9f4aa",
   "metadata": {
    "ExecuteTime": {
     "end_time": "2022-02-12T03:03:10.378772Z",
     "start_time": "2022-02-12T03:03:10.375630Z"
    }
   },
   "outputs": [],
   "source": [
    "# mms = MinMaxScaler()\n",
    "# mms.fit(housing_df)\n",
    "# df = mms.fit_transform(housing_df)"
   ]
  },
  {
   "cell_type": "code",
   "execution_count": 23,
   "id": "104bce09",
   "metadata": {
    "ExecuteTime": {
     "end_time": "2022-02-12T03:03:10.385326Z",
     "start_time": "2022-02-12T03:03:10.381265Z"
    }
   },
   "outputs": [],
   "source": [
    "df = pd.DataFrame(df, columns=housing_df.columns)"
   ]
  },
  {
   "cell_type": "code",
   "execution_count": 24,
   "id": "267e800d",
   "metadata": {
    "ExecuteTime": {
     "end_time": "2022-02-12T03:03:10.391956Z",
     "start_time": "2022-02-12T03:03:10.387665Z"
    }
   },
   "outputs": [],
   "source": [
    "x = df.iloc[:, :-1]\n",
    "y = df.iloc[:, -1]\n",
    "# y = y.reshape(len(y),1)"
   ]
  },
  {
   "cell_type": "code",
   "execution_count": 25,
   "id": "d9216efd",
   "metadata": {
    "ExecuteTime": {
     "end_time": "2022-02-12T03:03:10.397777Z",
     "start_time": "2022-02-12T03:03:10.394532Z"
    }
   },
   "outputs": [],
   "source": [
    "model = LinearRegression()"
   ]
  },
  {
   "cell_type": "code",
   "execution_count": 26,
   "id": "cd8c453b",
   "metadata": {
    "ExecuteTime": {
     "end_time": "2022-02-12T03:03:10.406755Z",
     "start_time": "2022-02-12T03:03:10.399673Z"
    }
   },
   "outputs": [],
   "source": [
    "from sklearn.model_selection import train_test_split\n",
    "x_train, x_test, y_train, y_test = train_test_split(x, y, train_size=0.7)"
   ]
  },
  {
   "cell_type": "code",
   "execution_count": 27,
   "id": "d4c36efb",
   "metadata": {
    "ExecuteTime": {
     "end_time": "2022-02-12T03:03:10.419842Z",
     "start_time": "2022-02-12T03:03:10.408793Z"
    }
   },
   "outputs": [],
   "source": [
    "model = model.fit(x_train, y_train)\n",
    "\n",
    "scores = mean_squared_error(y_true=y_test, y_pred=model.predict(x_test))"
   ]
  },
  {
   "cell_type": "code",
   "execution_count": 28,
   "id": "c21aab7e",
   "metadata": {
    "ExecuteTime": {
     "end_time": "2022-02-12T03:03:10.435420Z",
     "start_time": "2022-02-12T03:03:10.430662Z"
    }
   },
   "outputs": [
    {
     "data": {
      "text/plain": [
       "0.021960682785080114"
      ]
     },
     "execution_count": 28,
     "metadata": {},
     "output_type": "execute_result"
    }
   ],
   "source": [
    "scores"
   ]
  },
  {
   "cell_type": "markdown",
   "id": "2e0a3ac9",
   "metadata": {},
   "source": [
    "k-fold"
   ]
  },
  {
   "cell_type": "code",
   "execution_count": 29,
   "id": "e68d2dbb",
   "metadata": {
    "ExecuteTime": {
     "end_time": "2022-02-12T03:03:10.440531Z",
     "start_time": "2022-02-12T03:03:10.437351Z"
    }
   },
   "outputs": [],
   "source": [
    "model = LinearRegression()"
   ]
  },
  {
   "cell_type": "code",
   "execution_count": 30,
   "id": "2851ec46",
   "metadata": {
    "ExecuteTime": {
     "end_time": "2022-02-12T03:03:10.446942Z",
     "start_time": "2022-02-12T03:03:10.442839Z"
    }
   },
   "outputs": [],
   "source": [
    "from sklearn.model_selection import KFold\n",
    "from sklearn.model_selection import cross_val_score"
   ]
  },
  {
   "cell_type": "code",
   "execution_count": 31,
   "id": "d1fea54c",
   "metadata": {
    "ExecuteTime": {
     "end_time": "2022-02-12T03:03:13.343817Z",
     "start_time": "2022-02-12T03:03:10.449378Z"
    }
   },
   "outputs": [
    {
     "data": {
      "text/plain": [
       "0.02246052322536991"
      ]
     },
     "execution_count": 31,
     "metadata": {},
     "output_type": "execute_result"
    }
   ],
   "source": [
    "cv = KFold(n_splits=5, random_state=265, shuffle=True)\n",
    "# create model\n",
    "# evaluate model\n",
    "scores = cross_val_score(model, x, y, scoring='neg_mean_squared_error', cv=cv, n_jobs=-1)\n",
    "np.absolute(np.mean(scores))"
   ]
  },
  {
   "cell_type": "markdown",
   "id": "3d5dc800",
   "metadata": {},
   "source": [
    "LeaveOneOut\n"
   ]
  },
  {
   "cell_type": "code",
   "execution_count": 32,
   "id": "2c0c4690",
   "metadata": {
    "ExecuteTime": {
     "end_time": "2022-02-12T03:03:13.348288Z",
     "start_time": "2022-02-12T03:03:13.345613Z"
    }
   },
   "outputs": [],
   "source": [
    "model = LinearRegression()"
   ]
  },
  {
   "cell_type": "code",
   "execution_count": 33,
   "id": "cb3ed84a",
   "metadata": {
    "ExecuteTime": {
     "end_time": "2022-02-12T03:03:13.352259Z",
     "start_time": "2022-02-12T03:03:13.349652Z"
    }
   },
   "outputs": [],
   "source": [
    "from sklearn.model_selection import LeaveOneOut"
   ]
  },
  {
   "cell_type": "code",
   "execution_count": 34,
   "id": "4afe8341",
   "metadata": {
    "ExecuteTime": {
     "end_time": "2022-02-12T03:03:52.767290Z",
     "start_time": "2022-02-12T03:03:13.354137Z"
    }
   },
   "outputs": [
    {
     "data": {
      "text/plain": [
       "0.10963288945198428"
      ]
     },
     "execution_count": 34,
     "metadata": {},
     "output_type": "execute_result"
    }
   ],
   "source": [
    "cv = LeaveOneOut()\n",
    "\n",
    "#use LOOCV to evaluate model\n",
    "scores = cross_val_score(model, x, y, scoring='neg_mean_absolute_error',\n",
    "                         cv=cv, n_jobs=-1)\n",
    "\n",
    "np.absolute(np.mean(scores))"
   ]
  },
  {
   "cell_type": "code",
   "execution_count": null,
   "id": "f5194e82",
   "metadata": {},
   "outputs": [],
   "source": []
  },
  {
   "cell_type": "code",
   "execution_count": null,
   "id": "2349b7d6",
   "metadata": {},
   "outputs": [],
   "source": []
  },
  {
   "cell_type": "code",
   "execution_count": null,
   "id": "ce6b7e10",
   "metadata": {},
   "outputs": [],
   "source": []
  },
  {
   "cell_type": "code",
   "execution_count": null,
   "id": "2349b7d6",
   "metadata": {},
   "outputs": [],
   "source": []
  },
  {
   "cell_type": "code",
   "execution_count": null,
   "id": "ce6b7e10",
   "metadata": {},
   "outputs": [],
   "source": []
  }
 ],
 "metadata": {
  "author": "",
  "kernelspec": {
   "display_name": "Python 3 (ipykernel)",
   "language": "python",
   "name": "python3"
  },
  "language_info": {
   "codemirror_mode": {
    "name": "ipython",
    "version": 3
   },
   "file_extension": ".py",
   "mimetype": "text/x-python",
   "name": "python",
   "nbconvert_exporter": "python",
   "pygments_lexer": "ipython3",
   "version": "3.9.7"
  },
  "latex_envs": {
   "LaTeX_envs_menu_present": true,
   "autoclose": false,
   "autocomplete": true,
   "bibliofile": "biblio.bib",
   "cite_by": "apalike",
   "current_citInitial": 1,
   "eqLabelWithNumbers": true,
   "eqNumInitial": 1,
   "hotkeys": {
    "equation": "Ctrl-E",
    "itemize": "Ctrl-I"
   },
   "labels_anchors": false,
   "latex_user_defs": false,
   "report_style_numbering": false,
   "user_envs_cfg": false
  }
 },
 "nbformat": 4,
 "nbformat_minor": 5
}
